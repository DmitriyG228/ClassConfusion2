{
 "cells": [
  {
   "cell_type": "code",
   "execution_count": null,
   "metadata": {},
   "outputs": [],
   "source": [
    "#default_exp class_confusion"
   ]
  },
  {
   "cell_type": "markdown",
   "metadata": {},
   "source": [
    "# 03_class_confusion"
   ]
  },
  {
   "cell_type": "markdown",
   "metadata": {},
   "source": [
    "> Main code to get `ClassConfusion` running"
   ]
  },
  {
   "cell_type": "code",
   "execution_count": null,
   "metadata": {},
   "outputs": [],
   "source": [
    "#hide\n",
    "from nbdev.showdoc import *"
   ]
  },
  {
   "cell_type": "code",
   "execution_count": null,
   "metadata": {},
   "outputs": [],
   "source": [
    "#export\n",
    "from ClassConfusion2.tabular import get_losses, get_names, plot\n",
    "from ClassConfusion2.vision import get_losses, get_names, plot\n",
    "import itertools\n",
    "from fastai2.interpret import ClassificationInterpretation\n",
    "from google.colab import widgets\n",
    "from tqdm import tqdm"
   ]
  },
  {
   "cell_type": "code",
   "execution_count": null,
   "metadata": {},
   "outputs": [],
   "source": [
    "#export\n",
    "class ClassConfusion():\n",
    "  \"Plots the most confused datapoints and statistics for model misses. First is prediction second is actual\"\n",
    "  def __init__(self, learn, dl=None, cut_off=100, is_ordered=False, classlist=[], \n",
    "                varlist=None, figsize=(12,12), **kwargs):\n",
    "    dl = learn.dls[1] if dl is None else dl\n",
    "    interp = ClassificationInterpretation.from_learner(learn, dl=dl)\n",
    "    combs = classlist if is_ordered else list(itertools.permutations(classlist, 2))\n",
    "    figsize = figsize\n",
    "    cut_off = cut_off\n",
    "    vocab = interp.vocab\n",
    "    _, tl_idx = interp.top_losses(len(interp.losses))\n",
    "    idxs = dl.get_losses(tl_idx, interp.preds, combs)\n",
    "    mc = interp.most_confused()\n",
    "    tbnames, boxes, cols, rows, ranges = self._get_names(x=dl, idxs=idxs, mc=mc, varlist=varlist, li=combs)\n",
    "    tb = widgets.TabBar(tbnames)\n",
    "    self._create_tabs(tb, tbnames, dl, interp, idxs, combs, boxes, cols, rows, ranges, figsize, cut_off)\n",
    "\n",
    "  def _create_tabs(self, tb, tbnames, dl, interp, idxs, combs, boxes, cols, rows, ranges, figsize, cut_off):\n",
    "    \"Adds relevant graphs to each tab\"\n",
    "    with tqdm(total=len(tbnames)) as pbar:\n",
    "      for i, tab in enumerate(tbnames):\n",
    "        with tb.output_to(i):\n",
    "          plot(dl, interp, idxs, combs, tab, i, boxes, cols, rows, ranges, figsize, cut_off)\n",
    "      pbar.update(1)\n",
    "    \n",
    "  def _get_names(self, x, idxs, mc, varlist, li):\n",
    "    return get_names(x, idxs, mc, varlist, li)"
   ]
  }
 ],
 "metadata": {
  "kernelspec": {
   "display_name": "Python 3",
   "name": "python3"
  }
 },
 "nbformat": 4,
 "nbformat_minor": 0
}
