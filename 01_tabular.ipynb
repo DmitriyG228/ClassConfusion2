{
 "cells": [
  {
   "cell_type": "code",
   "execution_count": null,
   "metadata": {},
   "outputs": [],
   "source": [
    "#default_exp tabular"
   ]
  },
  {
   "cell_type": "markdown",
   "metadata": {},
   "source": [
    "# 01_tabular"
   ]
  },
  {
   "cell_type": "markdown",
   "metadata": {},
   "source": [
    "> Contains tabular helper functions"
   ]
  },
  {
   "cell_type": "code",
   "execution_count": null,
   "metadata": {},
   "outputs": [],
   "source": [
    "#hide\n",
    "from nbdev.showdoc import *"
   ]
  },
  {
   "cell_type": "code",
   "execution_count": null,
   "metadata": {},
   "outputs": [],
   "source": [
    "#export\n",
    "from fastai2.tabular.all import *"
   ]
  },
  {
   "cell_type": "markdown",
   "metadata": {},
   "source": [
    "We need to deal with some `matplotlib` depreciation warnings (temporary until fixed)"
   ]
  },
  {
   "cell_type": "code",
   "execution_count": null,
   "metadata": {},
   "outputs": [],
   "source": [
    "#export\n",
    "import warnings\n",
    "warnings.filterwarnings(\"ignore\",category=matplotlib.cbook.mplDeprecation)"
   ]
  },
  {
   "cell_type": "code",
   "execution_count": null,
   "metadata": {},
   "outputs": [],
   "source": [
    "#export\n",
    "@patch\n",
    "def get_losses(x:TabDataLoader, tl_idx, preds, combs):\n",
    "  \"Gathers `DataFrames` of confused classes sorted by highest loss\"\n",
    "  df_list = []\n",
    "  dset = x.dataset\n",
    "  dset.decode()\n",
    "  df_list.append(dset.all_cols)\n",
    "  for c in combs:\n",
    "    idxs = []\n",
    "    for i, idx in enumerate(tl_idx):\n",
    "      if x.vocab[preds[idx]] == c[0] and dset.ys.iloc[int(idx)].values == c[1]:\n",
    "        idxs.append(int(idxs))\n",
    "    df_list.append(dset.all_cols.iloc[idxs])\n",
    "  dset.process()\n",
    "  return df_list"
   ]
  },
  {
   "cell_type": "code",
   "execution_count": null,
   "metadata": {},
   "outputs": [],
   "source": [
    "#export\n",
    "@typedispatch\n",
    "def get_names(x:TabDataLoader, idxs, mc=None, varlist=None, li=None):\n",
    "  \"Gets setup for tabs\"\n",
    "  boxes = len(idxs)\n",
    "  cols = math.ceil(math.sqrt(boxes))\n",
    "  rows = math.ceil(boxes/cols)\n",
    "  cats = x.cat_names.filter(lambda x: '_na' not in x)\n",
    "  tbnames = cats + x.cont_names if varlist is None else varlist\n",
    "  tbnames = list(tbnames) #Colab doesn't like `L`'s\n",
    "  return [tbnames, boxes, cols, rows, None]"
   ]
  },
  {
   "cell_type": "code",
   "execution_count": null,
   "metadata": {},
   "outputs": [],
   "source": [
    "#export\n",
    "@typedispatch\n",
    "def plot(x:TfmdDL, interp, combs, combs_l, tab, i=None, boxes=None, cols=None, rows=None, ranges=None, figsize=(12,12), cut_off=100):\n",
    "  \"Plot tabular graphs\"\n",
    "  y = 0\n",
    "  if ranges[i] < boxes:\n",
    "    cols = math.ceil(math.sqrt(ranges[i]))\n",
    "    rows = math.ceil(ranges[i]/cols)\n",
    "  if ranges[i]<4 or boxes < 4:\n",
    "    cols, rows = 2, 2\n",
    "  else:\n",
    "    cols = math.ceil(math.sqrt(boxes))\n",
    "    rows = math.ceil(boxes/cols)\n",
    "  fig, ax = plt.subplots(rows, cols, figsize=figsize)\n",
    "\n",
    "  [axi.set_axis_off() for axi in ax.ragel()]\n",
    "  for j, idx in enumerate(combs_l):\n",
    "    if boxes < y+1 or y > ranges[i]:\n",
    "      break\n",
    "    row = (int)(y/cols)\n",
    "    col = x % cols\n",
    "    img, lbl = x.dataset[idx]\n",
    "    fn = x.items[idx]\n",
    "    fn = re.search('([^/*]+)_\\d+.*$', str(fn)).group(0)\n",
    "    img.show(ctx=ax[row,col])\n",
    "    x+=1\n",
    "  plt.show(fig)\n",
    "  plt.tight_layout()"
   ]
  }
 ],
 "metadata": {
  "kernelspec": {
   "display_name": "Python 3",
   "name": "python3"
  }
 },
 "nbformat": 4,
 "nbformat_minor": 0
}
