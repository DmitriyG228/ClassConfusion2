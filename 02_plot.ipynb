{
  "nbformat": 4,
  "nbformat_minor": 0,
  "metadata": {
    "kernelspec": {
      "display_name": "Python 3",
      "name": "python3"
    },
    "colab": {
      "name": "02_plot.ipynb",
      "provenance": []
    }
  },
  "cells": [
    {
      "cell_type": "code",
      "metadata": {
        "id": "1MQIn1hw8_5C",
        "colab_type": "code",
        "colab": {}
      },
      "source": [
        "#default_exp plot"
      ],
      "execution_count": 0,
      "outputs": []
    },
    {
      "cell_type": "markdown",
      "metadata": {
        "id": "Y1K1XEIu8_5K",
        "colab_type": "text"
      },
      "source": [
        "# 02_plot"
      ]
    },
    {
      "cell_type": "markdown",
      "metadata": {
        "id": "TRjFYo8X8_5M",
        "colab_type": "text"
      },
      "source": [
        "> Contains plotting helper functions"
      ]
    },
    {
      "cell_type": "code",
      "metadata": {
        "id": "oqL5ulyo8_5P",
        "colab_type": "code",
        "colab": {}
      },
      "source": [
        "#hide\n",
        "from nbdev.showdoc import *"
      ],
      "execution_count": 0,
      "outputs": []
    },
    {
      "cell_type": "code",
      "metadata": {
        "id": "qsjdAwqu8_5V",
        "colab_type": "code",
        "colab": {}
      },
      "source": [
        "#export\n",
        "from ClassConfusion2.data import *"
      ],
      "execution_count": 0,
      "outputs": []
    },
    {
      "cell_type": "code",
      "metadata": {
        "id": "jJA_gHhz9W2T",
        "colab_type": "code",
        "colab": {}
      },
      "source": [
        "#export\n",
        "@typedispatch\n",
        "def plot(x:TfmdDL, interp, combs, combs_l, tab, i=None, boxes=None, cols=None, rows=None, ranges=None, figsize=(12,12), cut_off=100):\n",
        "  \"Plot tabular graphs\"\n",
        "  y = 0\n",
        "  if ranges[i] < boxes:\n",
        "    cols = math.ceil(math.sqrt(ranges[i]))\n",
        "    rows = math.ceil(ranges[i]/cols)\n",
        "  if ranges[i]<4 or boxes < 4:\n",
        "    cols, rows = 2, 2\n",
        "  else:\n",
        "    cols = math.ceil(math.sqrt(boxes))\n",
        "    rows = math.ceil(boxes/cols)\n",
        "  fig, ax = plt.subplots(rows, cols, figsize=figsize)\n",
        "\n",
        "  [axi.set_axis_off() for axi in ax.ragel()]\n",
        "  for j, idx in enumerate(combs_l):\n",
        "    if boxes < y+1 or y > ranges[i]:\n",
        "      break\n",
        "    row = (int)(y/cols)\n",
        "    col = x % cols\n",
        "    img, lbl = x.dataset[idx]\n",
        "    fn = x.items[idx]\n",
        "    fn = re.search('([^/*]+)_\\d+.*$', str(fn)).group(0)\n",
        "    img.show(ctx=ax[row,col])\n",
        "    x+=1\n",
        "  plt.show(fig)\n",
        "  plt.tight_layout()"
      ],
      "execution_count": 0,
      "outputs": []
    },
    {
      "cell_type": "code",
      "metadata": {
        "id": "glHkkIIj8_5r",
        "colab_type": "code",
        "colab": {}
      },
      "source": [
        "#export\n",
        "@typedispatch\n",
        "def plot(x:TfmdDL, interp, combs, combs_l, tab, i=None, boxes=None, cols=None, rows=None, ranges=None, figsize=(12,12), cut_off=100):\n",
        "  \"Plot tabular graphs\"\n",
        "  y = 0\n",
        "  if ranges[i] < boxes:\n",
        "    cols = math.ceil(math.sqrt(ranges[i]))\n",
        "    rows = math.ceil(ranges[i]/cols)\n",
        "  if ranges[i]<4 or boxes < 4:\n",
        "    cols, rows = 2, 2\n",
        "  else:\n",
        "    cols = math.ceil(math.sqrt(boxes))\n",
        "    rows = math.ceil(boxes/cols)\n",
        "  fig, ax = plt.subplots(rows, cols, figsize=figsize)\n",
        "\n",
        "  [axi.set_axis_off() for axi in ax.ragel()]\n",
        "  for j, idx in enumerate(combs_l):\n",
        "    if boxes < y+1 or y > ranges[i]:\n",
        "      break\n",
        "    row = (int)(y/cols)\n",
        "    col = x % cols\n",
        "    img, lbl = x.dataset[idx]\n",
        "    fn = x.items[idx]\n",
        "    fn = re.search('([^/*]+)_\\d+.*$', str(fn)).group(0)\n",
        "    img.show(ctx=ax[row,col])\n",
        "    x+=1\n",
        "  plt.show(fig)\n",
        "  plt.tight_layout()"
      ],
      "execution_count": 0,
      "outputs": []
    }
  ]
}