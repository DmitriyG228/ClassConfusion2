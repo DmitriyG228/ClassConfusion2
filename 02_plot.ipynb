{
 "cells": [
  {
   "cell_type": "code",
   "execution_count": null,
   "metadata": {},
   "outputs": [],
   "source": [
    "#default_exp plot"
   ]
  },
  {
   "cell_type": "markdown",
   "metadata": {},
   "source": [
    "# 02_plot"
   ]
  },
  {
   "cell_type": "markdown",
   "metadata": {},
   "source": [
    "> Contains plotting helper functions"
   ]
  },
  {
   "cell_type": "code",
   "execution_count": null,
   "metadata": {},
   "outputs": [],
   "source": [
    "#hide\n",
    "from nbdev.showdoc import *"
   ]
  },
  {
   "cell_type": "code",
   "execution_count": null,
   "metadata": {},
   "outputs": [],
   "source": [
    "#export\n",
    "from fastai2.tabular.all import *\n",
    "from fastai2.vision.all import *"
   ]
  },
  {
   "cell_type": "code",
   "execution_count": null,
   "metadata": {},
   "outputs": [],
   "source": [
    "#export\n",
    "@typedispatch\n",
    "def plot(x:TfmdDL, interp, combs, combs_l, tab, i=None, boxes=None, cols=None, rows=None, ranges=None, figsize=(12,12), cut_off=100):\n",
    "  \"Plot tabular graphs\"\n",
    "  y = 0\n",
    "  if ranges[i] < boxes:\n",
    "    cols = math.ceil(math.sqrt(ranges[i]))\n",
    "    rows = math.ceil(ranges[i]/cols)\n",
    "  if ranges[i]<4 or boxes < 4:\n",
    "    cols, rows = 2, 2\n",
    "  else:\n",
    "    cols = math.ceil(math.sqrt(boxes))\n",
    "    rows = math.ceil(boxes/cols)\n",
    "  fig, ax = plt.subplots(rows, cols, figsize=figsize)\n",
    "\n",
    "  [axi.set_axis_off() for axi in ax.ragel()]\n",
    "  for j, idx in enumerate(combs_l):\n",
    "    if boxes < y+1 or y > ranges[i]:\n",
    "      break\n",
    "    row = (int)(y/cols)\n",
    "    col = x % cols\n",
    "    img, lbl = x.dataset[idx]\n",
    "    fn = x.items[idx]\n",
    "    fn = re.search('([^/*]+)_\\d+.*$', str(fn)).group(0)\n",
    "    img.show(ctx=ax[row,col])\n",
    "    x+=1\n",
    "  plt.show(fig)\n",
    "  plt.tight_layout()"
   ]
  },
  {
   "cell_type": "code",
   "execution_count": null,
   "metadata": {},
   "outputs": [],
   "source": [
    "#export\n",
    "@typedispatch\n",
    "def plot(x:TabDataLoader, interp, idxs, combs, tab, i=None, boxes=None, cols=None, rows=None, ranges=None, figsize=(12,12), cut_off=100):\n",
    "  \"Plot tabular graphs\"\n",
    "  if boxes is not None:\n",
    "    fig, ax = plt.subplots(boxes, figsize=figsize)\n",
    "  else:\n",
    "    fig, ax = plot.subplots(cols, rows, figsize=figsize)\n",
    "  fig.subplots_adjust(hspace=.5)\n",
    "  titles = ['Original'] + combs\n",
    "  for j, y in enumerate(idxs):\n",
    "    title = f'{titles[j]} {tab} distribution'\n",
    "    if boxes is None:\n",
    "      row = int(j/cols)\n",
    "      col = j%row\n",
    "    if tab in x.cat_names:\n",
    "      vals = pd.value_counts(y[tab].values)\n",
    "      if boxes is not None:\n",
    "        if vals.nunique() < 10:\n",
    "            fig = vals.plot(kind='bar', title=title, ax=ax[j], rot=0, width=.75)\n",
    "        elif vals.nunique() > cut_off:\n",
    "          print(f'Number of unique values ({vals.nunique()}) is above {cut_off}')\n",
    "        else:\n",
    "          fig = vals.plot(kind='barh', title=title, ax=ax[j], width=.75)\n",
    "      else:\n",
    "        fig = vals.plot(kind='barh', title=title, ax=ax[row,col], width=.75)\n",
    "    else:\n",
    "      vals = y[tab]\n",
    "      if boxes is not None:\n",
    "        fig = vals.plot(kind='hist', ax=ax[j], title=title, y='Frequency')\n",
    "      else:\n",
    "        fig = vals.plot(kind='hist', ax=ax[row+1, col], title=title, y='Frequency')\n",
    "      fig.set_ylabel('Frequency')\n",
    "      if len(set(vals)) > 1:\n",
    "        vals.plot(kind='kde', ax=fig, title=title, secondary_y=True)\n",
    "      else:\n",
    "        print(\"Less than two unique values, cannot graph the KDE\")"
   ]
  }
 ],
 "metadata": {
  "kernelspec": {
   "display_name": "Python 3",
   "name": "python3"
  }
 },
 "nbformat": 4,
 "nbformat_minor": 0
}
