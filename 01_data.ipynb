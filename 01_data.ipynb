{
  "nbformat": 4,
  "nbformat_minor": 0,
  "metadata": {
    "kernelspec": {
      "display_name": "Python 3",
      "name": "python3"
    },
    "colab": {
      "name": "01_data.ipynb",
      "provenance": []
    }
  },
  "cells": [
    {
      "cell_type": "code",
      "metadata": {
        "id": "xrclYf_x84nG",
        "colab_type": "code",
        "colab": {}
      },
      "source": [
        "#default_exp data"
      ],
      "execution_count": 0,
      "outputs": []
    },
    {
      "cell_type": "markdown",
      "metadata": {
        "id": "EcHuGHni84nP",
        "colab_type": "text"
      },
      "source": [
        "# 01_data"
      ]
    },
    {
      "cell_type": "markdown",
      "metadata": {
        "id": "a1_osg1W84nR",
        "colab_type": "text"
      },
      "source": [
        "> Contains data helper functions"
      ]
    },
    {
      "cell_type": "code",
      "metadata": {
        "id": "2F6Jy29-84nS",
        "colab_type": "code",
        "colab": {}
      },
      "source": [
        "#hide\n",
        "from nbdev.showdoc import *"
      ],
      "execution_count": 0,
      "outputs": []
    },
    {
      "cell_type": "code",
      "metadata": {
        "id": "_bYob9hf84nb",
        "colab_type": "code",
        "colab": {}
      },
      "source": [
        "#export\n",
        "from fastai2.tabular.all import *"
      ],
      "execution_count": 0,
      "outputs": []
    },
    {
      "cell_type": "markdown",
      "metadata": {
        "id": "FiqrPVz-84ni",
        "colab_type": "text"
      },
      "source": [
        "We need to deal with some `matplotlib` depreciation warnings (temporary until fixed)"
      ]
    },
    {
      "cell_type": "code",
      "metadata": {
        "id": "wMY6uR8o84nj",
        "colab_type": "code",
        "colab": {}
      },
      "source": [
        "#export\n",
        "import warnings\n",
        "warnings.filterwarnings(\"ignore\",category=matplotlib.cbook.mplDeprecation)"
      ],
      "execution_count": 0,
      "outputs": []
    },
    {
      "cell_type": "code",
      "metadata": {
        "id": "5Pc7ojW_84nn",
        "colab_type": "code",
        "colab": {}
      },
      "source": [
        "#export\n",
        "@patch\n",
        "def get_losses(x:TabDataLoader, tl_idx, preds, combs):\n",
        "  \"Gathers `DataFrames` of confused classes sorted by highest loss\"\n",
        "  df_list = []\n",
        "  dset = x.dataset\n",
        "  dset.decode()\n",
        "  df_list.append(dset.all_cols)\n",
        "  for c in combs:\n",
        "    idxs = []\n",
        "    for i, idx in enumerate(tl_idx):\n",
        "      if x.vocab[preds[idx]] == c[0] and dset.ys.iloc[int(idx)].values == c[1]:\n",
        "        idxs.append(int(idxs))\n",
        "    df_list.append(dset.all_cols.iloc[idxs])\n",
        "  dset.process()\n",
        "  return df_list"
      ],
      "execution_count": 0,
      "outputs": []
    },
    {
      "cell_type": "code",
      "metadata": {
        "id": "YcN0heP5866p",
        "colab_type": "code",
        "colab": {}
      },
      "source": [
        "#export\n",
        "@patch\n",
        "def get_losses(x:TfmdDL, tl_idx, preds, combs):\n",
        "  \"Get losses and original `x` from `DataLoaders`\"\n",
        "  groupings = []\n",
        "  preds =preds.argmax(dim=1)\n",
        "  dset = x.dataset\n",
        "  dec = [x.vocab[i] for i in preds]\n",
        "  for c in combs:\n",
        "    idxs = []\n",
        "    for i, idx in enumerate(tl_idx):\n",
        "      if dec[idx] == c[0] and dset.vocab[dset[int(i)][1]] == c[1]:\n",
        "        idxs.append(int(i))\n",
        "    groupings.append(dset[idxs])\n",
        "  return groupings"
      ],
      "execution_count": 0,
      "outputs": []
    },
    {
      "cell_type": "code",
      "metadata": {
        "id": "X0tOkToS84ns",
        "colab_type": "code",
        "colab": {}
      },
      "source": [
        "#export\n",
        "@typedispatch\n",
        "def get_names(x:TabDataLoader, idxs, mc=None, varlist=None, li=None):\n",
        "  \"Gets setup for tabs\"\n",
        "  boxes = len(idxs)\n",
        "  cols = math.ceil(math.sqrt(boxes))\n",
        "  row = math.ceil(boxes/cols)\n",
        "  cats = x.cat_names.filter(lambda x: '_na' not in x)\n",
        "  tbnames = cats + x.cont_names if varlist is not None else varlist\n",
        "  tbnames = list(tbnames) #Colab doesn't like `L`'s\n",
        "  return [tbnames, boxes, cols, rows, _]"
      ],
      "execution_count": 0,
      "outputs": []
    },
    {
      "cell_type": "code",
      "metadata": {
        "id": "IyQ4F82B9Gcs",
        "colab_type": "code",
        "colab": {}
      },
      "source": [
        "#export\n",
        "@typedispatch\n",
        "def get_names(x:TfmdDL, idxs, mc=None, varlist=None, li=None):\n",
        "  ranges = []\n",
        "  tbnames = []\n",
        "  boxes = int(input('Please enter a value for `k`, or the top # images you will see: '))\n",
        "  for x in iter(mc):\n",
        "    for y in range(len(li)):\n",
        "      if x[0:2] == li[y]:\n",
        "        ranges.append(x[2])\n",
        "        tbnames.append(f'{x[0]} | {x[1]}')\n",
        "  return [tbnames, boxes, None, None, ranges]"
      ],
      "execution_count": 0,
      "outputs": []
    },
    {
      "cell_type": "code",
      "metadata": {
        "id": "bRQ_deEs84n1",
        "colab_type": "code",
        "colab": {}
      },
      "source": [
        ""
      ],
      "execution_count": 0,
      "outputs": []
    }
  ]
}