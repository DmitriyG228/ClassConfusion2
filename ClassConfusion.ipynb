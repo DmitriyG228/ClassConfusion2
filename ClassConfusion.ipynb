{
 "cells": [
  {
   "cell_type": "code",
   "execution_count": 0,
   "metadata": {
    "colab": {},
    "colab_type": "code",
    "id": "PbOg4YGuA337"
   },
   "outputs": [],
   "source": [
    "#default_exp class_confusion"
   ]
  },
  {
   "cell_type": "markdown",
   "metadata": {
    "colab_type": "text",
    "id": "rsLfNMNbMCB_"
   },
   "source": [
    "# 01_Class_Confusion"
   ]
  },
  {
   "cell_type": "markdown",
   "metadata": {
    "colab_type": "text",
    "id": "n-faqZThNXfl"
   },
   "source": [
    "> This module contains the tabular support for `ClassConfusion`"
   ]
  },
  {
   "cell_type": "code",
   "execution_count": 0,
   "metadata": {
    "colab": {},
    "colab_type": "code",
    "id": "3-SgTRBPL--V"
   },
   "outputs": [],
   "source": [
    "#export\n",
    "from fastai2.tabular.all import *"
   ]
  },
  {
   "cell_type": "code",
   "execution_count": 0,
   "metadata": {
    "colab": {},
    "colab_type": "code",
    "id": "Bj_vLHvquazj"
   },
   "outputs": [],
   "source": [
    "#export\n",
    "import warnings\n",
    "warnings.filterwarnings(\"ignore\",category=matplotlib.cbook.mplDeprecation)"
   ]
  },
  {
   "cell_type": "code",
   "execution_count": 0,
   "metadata": {
    "colab": {},
    "colab_type": "code",
    "id": "NfzpIPzUcceV"
   },
   "outputs": [],
   "source": [
    "#export\n",
    "from google.colab import widgets\n",
    "from tqdm import tqdm"
   ]
  },
  {
   "cell_type": "code",
   "execution_count": 0,
   "metadata": {
    "colab": {},
    "colab_type": "code",
    "id": "wg1YRIU9xQsV"
   },
   "outputs": [],
   "source": [
    "#export\n",
    "@typedispatch\n",
    "def _get_names(x:TabDataLoader, idxs, mc=None, varlist=None, li=None):\n",
    "  \"Creates names for the tabs\"\n",
    "  boxes = len(idxs)\n",
    "  cols = math.ceil(math.sqrt(boxes))\n",
    "  rows = math.ceil(boxes/cols)\n",
    "  tbnames = x.cat_names.filter(lambda x: '_na' not in x) + x.cont_names if varlist is None else varlist\n",
    "  tbnames = list(tbnames)\n",
    "  return [tbnames, boxes, cols, rows, None]"
   ]
  },
  {
   "cell_type": "code",
   "execution_count": 0,
   "metadata": {
    "colab": {},
    "colab_type": "code",
    "id": "H6l_cfL7xTrW"
   },
   "outputs": [],
   "source": [
    "#export\n",
    "@typedispatch\n",
    "def _get_names(x:TfmdDL, idxs, mc=None, varlist=None, li=None):\n",
    "  ranges = []\n",
    "  tbnames = []\n",
    "  boxes = int(input('Please enter a value for `k`, or the top # images you will see: \\n'))\n",
    "  for x in iter(mc):\n",
    "    for y in range(len(li)):\n",
    "      if x[0:2] == li[y]:\n",
    "        ranges.append(x[2])\n",
    "        tbnames.append(f'{x[0]} | {x[1]}')\n",
    "  return [tbnames, boxes, None, None, ranges]"
   ]
  },
  {
   "cell_type": "code",
   "execution_count": 0,
   "metadata": {
    "colab": {},
    "colab_type": "code",
    "id": "IRsjM7WwlkLl"
   },
   "outputs": [],
   "source": [
    "#export\n",
    "@patch\n",
    "def get_losses(x:TabDataLoader, tl_idx, preds, combs):\n",
    "  \"Gets losses from `TabDataLoader`\"\n",
    "  df_list = []\n",
    "  preds = preds.argmax(dim=1)\n",
    "  dset = x.dataset\n",
    "  dset.decode()\n",
    "  df_list.append(dset.all_cols)\n",
    "  for c in combs:\n",
    "    idxs = []\n",
    "    for i, idx in enumerate(tl_idx):\n",
    "      if x.vocab[preds[idx]] == c[0] and dset.ys.iloc[int(idx)].values == c[1]:\n",
    "        idxs.append(int(idx))\n",
    "    df_list.append(dset.all_cols.iloc[idxs])\n",
    "  dset.process()\n",
    "  return df_list"
   ]
  },
  {
   "cell_type": "code",
   "execution_count": 0,
   "metadata": {
    "colab": {},
    "colab_type": "code",
    "id": "JMvqUcQqnQDc"
   },
   "outputs": [],
   "source": [
    "#export\n",
    "@patch\n",
    "def get_losses(x:TfmdDL, tl_idx, preds, combs):\n",
    "  \"Get losses and original `x` from `DataLoaders`\"\n",
    "  groupings = []\n",
    "  preds = preds.argmax(dim=1)\n",
    "  dset = x.dataset\n",
    "  dec = [x.vocab[i] for i in preds]\n",
    "  for c in combs:\n",
    "    idxs = []\n",
    "    for i, idx in enumerate(tl_idx):\n",
    "      if dec[idx] == c[0] and dset.vocab[dset[int(i)][1]] == c[1]:\n",
    "        idxs.append(int(idx))\n",
    "    groupings.append(idxs)\n",
    "  return groupings"
   ]
  },
  {
   "cell_type": "code",
   "execution_count": 0,
   "metadata": {
    "colab": {},
    "colab_type": "code",
    "id": "MZswh1kqxWN5"
   },
   "outputs": [],
   "source": [
    "#export\n",
    "@typedispatch\n",
    "def _plot(x:TfmdDL, interp, idxs, combs, tab, i=None, boxes=None, cols=None, rows=None, ranges=None, figsize=(12,12), cut_off=100):\n",
    "  \"Plot top pictures per classes chosen\"\n",
    "  y = 0\n",
    "  if ranges[i] < boxes:\n",
    "    cols = math.ceil(math.sqrt(ranges[i]))\n",
    "    rows = math.ceil(ranges[i]/cols)\n",
    "  if ranges[i]<4 or boxes < 4:\n",
    "    cols, rows = 2, 2\n",
    "  else:\n",
    "    cols = math.ceil(math.sqrt(boxes))\n",
    "    rows = math.ceil(boxes/cols)\n",
    "  fig, ax = plt.subplots(rows, cols, figsize=figsize)\n",
    "  [axi.set_axis_off() for axi in ax.ravel()]\n",
    "  for j, idx in enumerate(idxs[i]):\n",
    "    if boxes < y+1 or y > ranges[i]:\n",
    "      break\n",
    "    row = (int)(y/cols)\n",
    "    col = y % cols\n",
    "    img, lbl = x.dataset[idx]\n",
    "    fn = x.items[idx]\n",
    "    fn = re.search('([^\\/]\\d+.*$)', str(fn)).group(0)\n",
    "    img.show(ctx=ax[row,col], title=fn)\n",
    "    y+=1\n",
    "  plt.show(fig)\n",
    "  plt.tight_layout()"
   ]
  },
  {
   "cell_type": "code",
   "execution_count": 0,
   "metadata": {
    "colab": {},
    "colab_type": "code",
    "id": "38n5IyTrxZB-"
   },
   "outputs": [],
   "source": [
    "#export\n",
    "@typedispatch\n",
    "def _plot(x:TabDataLoader, interp, idxs, combs, tab, i=None, boxes=None, cols=None, rows=None, ranges=None, figsize=(12,12), cut_off=100):\n",
    "  \"Plot tabular graphs\"\n",
    "  if boxes is not None:\n",
    "    fig, ax = plt.subplots(boxes, figsize=figsize)\n",
    "  else:\n",
    "    fig, ax = plot.subplots(cols, rows, figsize=figsize)\n",
    "  fig.subplots_adjust(hspace=.5)\n",
    "  titles = ['Original'] + combs\n",
    "  for j, y in enumerate(idxs):\n",
    "    title = f'{titles[j]} {tab} distribution'\n",
    "    if boxes is None:\n",
    "      row = int(j/cols)\n",
    "      col = j%row\n",
    "    if tab in x.cat_names:\n",
    "      vals = pd.value_counts(y[tab].values)\n",
    "      if boxes is not None:\n",
    "        if vals.nunique() < 10:\n",
    "            fig = vals.plot(kind='bar', title=title, ax=ax[j], rot=0, width=.75)\n",
    "        elif vals.nunique() > cut_off:\n",
    "          print(f'Number of unique values ({vals.nunique()}) is above {cut_off}')\n",
    "        else:\n",
    "          fig = vals.plot(kind='barh', title=title, ax=ax[j], width=.75)\n",
    "      else:\n",
    "        fig = vals.plot(kind='barh', title=title, ax=ax[row,col], width=.75)\n",
    "    else:\n",
    "      vals = y[tab]\n",
    "      if boxes is not None:\n",
    "        fig = vals.plot(kind='hist', ax=ax[j], title=title, y='Frequency')\n",
    "      else:\n",
    "        fig = vals.plot(kind='hist', ax=ax[row+1, col], title=title, y='Frequency')\n",
    "      fig.set_ylabel('Frequency')\n",
    "      if len(set(vals)) > 1:\n",
    "        vals.plot(kind='kde', ax=fig, title=title, secondary_y=True)\n",
    "      else:\n",
    "        print(\"Less than two unique values, cannot graph the KDE\")"
   ]
  },
  {
   "cell_type": "code",
   "execution_count": 0,
   "metadata": {
    "colab": {},
    "colab_type": "code",
    "id": "NTmTWmnsNmLL"
   },
   "outputs": [],
   "source": [
    "#export\n",
    "class ClassConfusion():\n",
    "  \"Plots the most confused datapoints and statistics for model misses. First is prediction second is actual\"\n",
    "  def __init__(self, learn, dl=None, cut_off=100, is_ordered=False, classlist=[],\n",
    "                varlist=None, figsize=(12,12), **kwargs):\n",
    "    dl = learn.dls[1] if dl is None else dl\n",
    "    interp = ClassificationInterpretation.from_learner(learn, dl=dl)\n",
    "    combs = classlist if is_ordered else list(itertools.permutations(classlist, 2))\n",
    "    figsize = figsize\n",
    "    cut_off = cut_off\n",
    "    vocab = interp.vocab\n",
    "    _, tl_idx = interp.top_losses(len(interp.losses))\n",
    "    idxs = dl.get_losses(tl_idx, interp.preds, combs)\n",
    "    mc = interp.most_confused()\n",
    "    tbnames, boxes, cols, rows, ranges = self._get_names(x=dl, idxs=idxs, mc=mc, varlist=varlist, li=combs)\n",
    "    tb = widgets.TabBar(tbnames)\n",
    "    self._create_tabs(tb, tbnames, dl, interp, idxs, combs, boxes, cols, rows, ranges, figsize, cut_off)\n",
    "\n",
    "  def _create_tabs(self, tb, tbnames, dl, interp, idxs, combs, boxes, cols, rows, ranges, figsize, cut_off):\n",
    "    \"Adds relevant graphs to each tab\"\n",
    "    with tqdm(total=len(tbnames)) as pbar:\n",
    "      for i, tab in enumerate(tbnames):\n",
    "        with tb.output_to(i):\n",
    "          _plot(dl, interp, idxs, combs, tab, i, boxes, cols, rows, ranges, figsize, cut_off)\n",
    "      pbar.update(1)\n",
    "\n",
    "  def _get_names(self, x, idxs, mc, varlist, li):\n",
    "    return _get_names(x, idxs, mc, varlist, li)"
   ]
  },
  {
   "cell_type": "code",
   "execution_count": 0,
   "metadata": {
    "colab": {},
    "colab_type": "code",
    "id": "pI12UCrwXtQs"
   },
   "outputs": [],
   "source": []
  }
 ],
 "metadata": {
  "accelerator": "GPU",
  "colab": {
   "collapsed_sections": [],
   "name": "ClassConfusion.ipynb",
   "provenance": []
  },
  "kernelspec": {
   "display_name": "Python 3",
   "name": "python3"
  }
 },
 "nbformat": 4,
 "nbformat_minor": 0
}
