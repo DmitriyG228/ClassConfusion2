{
 "cells": [
  {
   "cell_type": "code",
   "execution_count": null,
   "metadata": {},
   "outputs": [],
   "source": [
    "#default_exp vision"
   ]
  },
  {
   "cell_type": "markdown",
   "metadata": {},
   "source": [
    "# 02_vision"
   ]
  },
  {
   "cell_type": "markdown",
   "metadata": {},
   "source": [
    "> Contains vision helper functions"
   ]
  },
  {
   "cell_type": "code",
   "execution_count": null,
   "metadata": {},
   "outputs": [],
   "source": [
    "#hide\n",
    "from nbdev.showdoc import *"
   ]
  },
  {
   "cell_type": "code",
   "execution_count": null,
   "metadata": {},
   "outputs": [],
   "source": [
    "#export\n",
    "from fastai2.vision.all import *"
   ]
  },
  {
   "cell_type": "code",
   "execution_count": null,
   "metadata": {},
   "outputs": [],
   "source": [
    "#export\n",
    "@patch\n",
    "def get_losses(x:TfmdDL, tl_idx, preds, combs):\n",
    "  \"Get losses and original `x` from `DataLoaders`\"\n",
    "  groupings = []\n",
    "  preds =preds.argmax(dim=1)\n",
    "  dset = x.dataset\n",
    "  dec = [x.vocab[i] for i in preds]\n",
    "  for c in combs:\n",
    "    idxs = []\n",
    "    for i, idx in enumerate(tl_idx):\n",
    "      if dec[idx] == c[0] and dset.vocab[dset[int(i)][1]] == c[1]:\n",
    "        idxs.append(int(i))\n",
    "    groupings.append(dset[idxs])\n",
    "  return groupings"
   ]
  },
  {
   "cell_type": "code",
   "execution_count": null,
   "metadata": {},
   "outputs": [],
   "source": [
    "#export\n",
    "@typedispatch\n",
    "def get_names(x:TfmdDL, idxs, mc=None, varlist=None, li=None):\n",
    "  ranges = []\n",
    "  tbnames = []\n",
    "  boxes = int(input('Please enter a value for `k`, or the top # images you will see: '))\n",
    "  for x in iter(mc):\n",
    "    for y in range(len(li)):\n",
    "      if x[0:2] == li[y]:\n",
    "        ranges.append(x[2])\n",
    "        tbnames.append(f'{x[0]} | {x[1]}')\n",
    "  return [tbnames, boxes, _, _, ranges]"
   ]
  },
  {
   "cell_type": "code",
   "execution_count": null,
   "metadata": {},
   "outputs": [],
   "source": [
    "#export\n",
    "@typedispatch\n",
    "def plot(x:TfmdDL, interp, combs, combs_l, tab, i=None, boxes=None, cols=None, rows=None, ranges=None, figsize=(12,12), cut_off=100):\n",
    "  \"Plot tabular graphs\"\n",
    "  y = 0\n",
    "  if ranges[i] < boxes:\n",
    "    cols = math.ceil(math.sqrt(ranges[i]))\n",
    "    rows = math.ceil(ranges[i]/cols)\n",
    "  if ranges[i]<4 or boxes < 4:\n",
    "    cols, rows = 2, 2\n",
    "  else:\n",
    "    cols = math.ceil(math.sqrt(boxes))\n",
    "    rows = math.ceil(boxes/cols)\n",
    "  fig, ax = plt.subplots(rows, cols, figsize=figsize)\n",
    "\n",
    "  [axi.set_axis_off() for axi in ax.ragel()]\n",
    "  for j, idx in enumerate(combs_l):\n",
    "    if boxes < y+1 or y > ranges[i]:\n",
    "      break\n",
    "    row = (int)(y/cols)\n",
    "    col = x % cols\n",
    "    img, lbl = x.dataset[idx]\n",
    "    fn = x.items[idx]\n",
    "    fn = re.search('([^/*]+)_\\d+.*$', str(fn)).group(0)\n",
    "    img.show(ctx=ax[row,col])\n",
    "    x+=1\n",
    "  plt.show(fig)\n",
    "  plt.tight_layout()"
   ]
  }
 ],
 "metadata": {
  "kernelspec": {
   "display_name": "Python 3",
   "name": "python3"
  }
 },
 "nbformat": 4,
 "nbformat_minor": 0
}
